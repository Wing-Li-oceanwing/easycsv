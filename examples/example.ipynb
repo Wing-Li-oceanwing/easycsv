{
 "cells": [
  {
   "cell_type": "code",
   "execution_count": null,
   "metadata": {},
   "outputs": [],
   "source": [
    "import (\n",
    "    \"fmt\"\n",
    "    \"log\"\n",
    "\n",
    "    \"github.com/yunabe/easycsv\"\n",
    ")"
   ]
  },
  {
   "cell_type": "markdown",
   "metadata": {},
   "source": [
    "# Read\n",
    "[`Read`](https://godoc.org/github.com/yunabe/easycsv#Reader.Read) with `index` field tags."
   ]
  },
  {
   "cell_type": "code",
   "execution_count": null,
   "metadata": {},
   "outputs": [
    {
     "name": "stdout",
     "output_type": "stream",
     "text": [
      "entry: name = alice, age = 12\n",
      "entry: name = bob, age = 34\n"
     ]
    }
   ],
   "source": [
    "{\n",
    "    r := easycsv.NewReaderFile(\"noheader.csv\")\n",
    "    var entry struct {\n",
    "        Name string `index:\"0\"`\n",
    "        Age  int64  `index:\"1\"`\n",
    "    }\n",
    "    for r.Read(&entry) {\n",
    "        fmt.Printf(\"entry: name = %s, age = %d\\n\", entry.Name, entry.Age)\n",
    "    }\n",
    "    if err := r.Done(); err != nil {\n",
    "        log.Printf(\"failed to read: %v\", err)\n",
    "    }\n",
    "}"
   ]
  },
  {
   "cell_type": "markdown",
   "metadata": {},
   "source": [
    "[`Loop`](https://godoc.org/github.com/yunabe/easycsv#Reader.Loop) with `name` field tags."
   ]
  },
  {
   "cell_type": "code",
   "execution_count": null,
   "metadata": {},
   "outputs": [
    {
     "name": "stdout",
     "output_type": "stream",
     "text": [
      "entry: name = alice, age = 12\n",
      "entry: name = bob, age = 34\n"
     ]
    }
   ],
   "source": [
    "{\n",
    "    r := easycsv.NewReaderFile(\"withheader.csv\")\n",
    "    err := r.Loop(func(entry struct {\n",
    "        Name string `name:\"name\"`\n",
    "        Age  int64  `name:\"age\"`\n",
    "    }) {\n",
    "        fmt.Printf(\"entry: name = %s, age = %d\\n\", entry.Name, entry.Age)\n",
    "    })\n",
    "    if err != nil {\n",
    "        log.Printf(\"failed to read: %v\", err)\n",
    "    }\n",
    "}"
   ]
  }
 ],
 "metadata": {
  "kernelspec": {
   "display_name": "Go (lgo)",
   "language": "go",
   "name": "lgo"
  },
  "language_info": {
   "file_extension": "",
   "mimetype": "",
   "name": "go",
   "version": ""
  }
 },
 "nbformat": 4,
 "nbformat_minor": 2
}
